{
 "cells": [
  {
   "cell_type": "markdown",
   "id": "16536464",
   "metadata": {},
   "source": [
    "#abrimos los archivos de tipo txt en modo lectura y los guardamos en sus variables, los codifico como utf-8 para la lectura.\n"
   ]
  },
  {
   "cell_type": "code",
   "execution_count": null,
   "id": "a0abb3b0",
   "metadata": {},
   "outputs": [],
   "source": [
    "archivoNombres = open(\"nombres_1.txt\", \"r\", encoding=\"utf-8\")\n",
    "archivoEval1 = open(\"eval1.txt\", \"r\", encoding= \"utf-8\")\n",
    "archivoEval2 = open(\"eval2.txt\", \"r\", encoding= \"utf-8\")\n"
   ]
  },
  {
   "cell_type": "markdown",
   "id": "9d40e611",
   "metadata": {},
   "source": [
    "#Leo los y guardo en listas, las notas le saco las comas para despues convertirlos en int mas facil \n"
   ]
  },
  {
   "cell_type": "code",
   "execution_count": null,
   "id": "fecacfbb",
   "metadata": {},
   "outputs": [],
   "source": [
    "nomb=archivoNombres.read().split()\n",
    "notas1=archivoEval1.read().split(\",\")\n",
    "notas2=archivoEval2.read().split(\",\")"
   ]
  },
  {
   "cell_type": "markdown",
   "id": "d8aa7e1f",
   "metadata": {},
   "source": [
    "#inicialiso la variable totalalizadora para las notas y mi lista de estudiantes donde guardare los nombres de los estudiantes y la suma de ambas notas.\n"
   ]
  },
  {
   "cell_type": "code",
   "execution_count": null,
   "id": "0ef73b56",
   "metadata": {},
   "outputs": [],
   "source": [
    "Total = 0\n",
    "estudiantes= []"
   ]
  },
  {
   "cell_type": "markdown",
   "id": "093f61f3",
   "metadata": {},
   "source": [
    "#hago un for para recorrer los nombres y las notas de la eval1 y eval2.\n",
    "#primero: en notaTotal guardo la suma de ambas nota del alumno\n",
    "#segundo: creo un diccionario y guardo el nombre del alumno con su nota total\n",
    "#tercero: agrego el deccionario a mi lista final la cual va a cotener todos los alumnos con sus debidas notas totales\n",
    "#cuarto: en mi variable nTotal, totalizo las notas de todos los alumnos \n"
   ]
  },
  {
   "cell_type": "code",
   "execution_count": null,
   "id": "0117ab66",
   "metadata": {},
   "outputs": [],
   "source": [
    "for x in range(len(nomb)):\n",
    "    sumaNotas = int(notas1[x]) + int(notas2[x])  # = 20\n",
    "    estudiante = {\"nombre\":nomb[x], \"nota\":sumaNotas}\n",
    "    estudiantes.append(estudiante)\n",
    "    Total = Total + sumaNotas\n",
    "\n",
    "promedio = Total / len(nomb)\n"
   ]
  },
  {
   "cell_type": "markdown",
   "id": "ffe4faf0",
   "metadata": {},
   "source": [
    "#cierro los archivos que no se van a usar mas"
   ]
  },
  {
   "cell_type": "code",
   "execution_count": null,
   "id": "55a9a4eb",
   "metadata": {},
   "outputs": [],
   "source": [
    "archivoNombres.close()\n",
    "archivoEval1.close()\n",
    "archivoEval2.close()\n"
   ]
  },
  {
   "cell_type": "markdown",
   "id": "c6af82c4",
   "metadata": {},
   "source": [
    "#por ultimo hago un for para recorrer la lista de dicionarios con los datos totales de cada alumno e imprimo aquellos que estan por debajo del promedio\n"
   ]
  },
  {
   "cell_type": "code",
   "execution_count": null,
   "id": "39c1bb94",
   "metadata": {},
   "outputs": [],
   "source": [
    "for i in range(len(estudiantes)):\n",
    "    if estudiantes[i][\"nota\"] <= promedio:\n",
    "        print(estudiantes[i][\"nombre\"])"
   ]
  }
 ],
 "metadata": {
  "kernelspec": {
   "display_name": "Python 3 (ipykernel)",
   "language": "python",
   "name": "python3"
  },
  "language_info": {
   "codemirror_mode": {
    "name": "ipython",
    "version": 3
   },
   "file_extension": ".py",
   "mimetype": "text/x-python",
   "name": "python",
   "nbconvert_exporter": "python",
   "pygments_lexer": "ipython3",
   "version": "3.10.0"
  }
 },
 "nbformat": 4,
 "nbformat_minor": 5
}
